{
 "cells": [
  {
   "cell_type": "markdown",
   "metadata": {
    "colab_type": "text",
    "id": "iPIB8W0jzlaR"
   },
   "source": []
  },
  {
   "cell_type": "markdown",
   "metadata": {
    "colab_type": "text",
    "id": "XKvDW5fpznwB"
   },
   "source": [
    "Падгружаем дадзеныя"
   ]
  },
  {
   "cell_type": "code",
   "execution_count": 1,
   "metadata": {
    "colab": {
     "base_uri": "https://localhost:8080/",
     "height": 35
    },
    "colab_type": "code",
    "id": "8bTeoHj5zg4d",
    "outputId": "5d495cac-c57d-4c22-d28d-2287039f8ea8"
   },
   "outputs": [
    {
     "name": "stdout",
     "output_type": "stream",
     "text": [
      "Dig-MNIST.csv  sample_submission.csv  test.csv\ttrain.csv\r\n"
     ]
    }
   ],
   "source": [
    "!ls ../input/Kannada-MNIST\n"
   ]
  },
  {
   "cell_type": "code",
   "execution_count": 2,
   "metadata": {
    "colab": {
     "base_uri": "https://localhost:8080/",
     "height": 52
    },
    "colab_type": "code",
    "id": "d55qYnmg0CDf",
    "outputId": "cbee8175-0acf-4dea-f9bd-b2ed155802be"
   },
   "outputs": [
    {
     "name": "stdout",
     "output_type": "stream",
     "text": [
      "2.0.0\n",
      "2.2.4-tf\n"
     ]
    }
   ],
   "source": [
    "# %tensorflow_version 1.x\n",
    "import tensorflow\n",
    "print(tensorflow.__version__)\n",
    "import tensorflow.keras as keras\n",
    "print(keras.__version__)"
   ]
  },
  {
   "cell_type": "markdown",
   "metadata": {
    "colab_type": "text",
    "id": "OD7COJSw2T6f"
   },
   "source": [
    "Дастаем дадзеныя для трэйна і валідацыі"
   ]
  },
  {
   "cell_type": "code",
   "execution_count": 3,
   "metadata": {
    "colab": {
     "base_uri": "https://localhost:8080/",
     "height": 52
    },
    "colab_type": "code",
    "id": "EXiGKo4Y09WN",
    "outputId": "9901faa8-2c96-4b99-daf1-136d74634322"
   },
   "outputs": [
    {
     "name": "stdout",
     "output_type": "stream",
     "text": [
      "<class 'pandas.core.frame.DataFrame'>\n",
      "int64 0 255\n"
     ]
    }
   ],
   "source": [
    "import pandas as pd\n",
    "train_set = pd.read_csv(\"../input/Kannada-MNIST/train.csv\")\n",
    "print(type(train_set))\n",
    "train_array = train_set.values\n",
    "y_train, x_train = train_array[:, :1], train_array[:, 1:]\n",
    "# print(y_train, y_train.shape,\"\\n\", x_train, x_train.shape)\n",
    "print(x_train.dtype, x_train.min(), x_train.max())\n"
   ]
  },
  {
   "cell_type": "markdown",
   "metadata": {
    "colab_type": "text",
    "id": "mS-h_y2n2a59"
   },
   "source": [
    "Дастаем дадзеныя для тэста\n"
   ]
  },
  {
   "cell_type": "code",
   "execution_count": 4,
   "metadata": {
    "colab": {
     "base_uri": "https://localhost:8080/",
     "height": 35
    },
    "colab_type": "code",
    "id": "-ldoK_4_2jfl",
    "outputId": "2a40b8c8-cec6-4b3f-98a7-5216a52aca8c"
   },
   "outputs": [
    {
     "name": "stdout",
     "output_type": "stream",
     "text": [
      "<class 'pandas.core.frame.DataFrame'>\n"
     ]
    }
   ],
   "source": [
    "test_set = pd.read_csv(\"../input/Kannada-MNIST/test.csv\")\n",
    "print(type(test_set))\n",
    "test_array = test_set.values\n",
    "\n",
    "y_test, x_test = test_array[:, :1], test_array[:, 1:]"
   ]
  },
  {
   "cell_type": "code",
   "execution_count": 5,
   "metadata": {
    "colab": {
     "base_uri": "https://localhost:8080/",
     "height": 399
    },
    "colab_type": "code",
    "id": "F5CmHeSP7ReM",
    "outputId": "4a172427-c248-4c73-f9d3-a38b0b627699"
   },
   "outputs": [
    {
     "name": "stdout",
     "output_type": "stream",
     "text": [
      "[[0 0 0 ... 0 0 0]\n",
      " [0 0 0 ... 0 0 0]\n",
      " [0 0 0 ... 0 0 0]\n",
      " ...\n",
      " [0 0 0 ... 0 0 0]\n",
      " [0 0 0 ... 0 0 0]\n",
      " [0 0 0 ... 0 0 0]]\n",
      "255 0\n",
      "[[   0]\n",
      " [   1]\n",
      " [   2]\n",
      " ...\n",
      " [4997]\n",
      " [4998]\n",
      " [4999]]\n",
      "[[0]\n",
      " [1]\n",
      " [2]\n",
      " ...\n",
      " [7]\n",
      " [8]\n",
      " [9]]\n"
     ]
    }
   ],
   "source": [
    "print(x_test)\n",
    "print(x_test.max(), x_test.min())\n",
    "print(y_test)\n",
    "print(y_train)"
   ]
  },
  {
   "cell_type": "markdown",
   "metadata": {
    "colab_type": "text",
    "id": "7OdfbRt10Yh7"
   },
   "source": [
    "Намалюем некалькі аб'ектаў"
   ]
  },
  {
   "cell_type": "code",
   "execution_count": 6,
   "metadata": {
    "colab": {
     "base_uri": "https://localhost:8080/",
     "height": 519
    },
    "colab_type": "code",
    "id": "oMjeN1O-4EhI",
    "outputId": "4b648fcc-31c7-4ebc-9948-146dd5f50aaf"
   },
   "outputs": [
    {
     "data": {
      "image/png": "[encoded data removed]",
      "text/plain": [
       "<Figure size 432x288 with 12 Axes>"
      ]
     },
     "execution_count": 6,
     "metadata": {},
     "output_type": "execute_result"
    },
    {
     "data": {
      "image/png": "[encoded data removed]",
      "text/plain": [
       "<Figure size 432x288 with 12 Axes>"
      ]
     },
     "metadata": {
      "needs_background": "light"
     },
     "output_type": "display_data"
    }
   ],
   "source": [
    "from skimage.io import imshow, imshow_collection\n",
    "\n",
    "imshow_collection(x_train[:12].reshape(12, 28, 28))\n"
   ]
  },
  {
   "cell_type": "markdown",
   "metadata": {
    "colab_type": "text",
    "id": "ciLeOZl986Qg"
   },
   "source": [
    "Нармалізуем дадзеныя\n"
   ]
  },
  {
   "cell_type": "code",
   "execution_count": 7,
   "metadata": {
    "colab": {
     "base_uri": "https://localhost:8080/",
     "height": 69
    },
    "colab_type": "code",
    "id": "ezw_GlV376yF",
    "outputId": "fc15603e-8438-4621-bb8e-c4b5d626dbf1"
   },
   "outputs": [
    {
     "name": "stdout",
     "output_type": "stream",
     "text": [
      "MinMaxScaler(copy=False, feature_range=(-1, 1))\n",
      "-1.0 1.0\n"
     ]
    }
   ],
   "source": [
    "from sklearn.preprocessing import MinMaxScaler\n",
    "\n",
    "scaler = MinMaxScaler((-1, 1), False)\n",
    "print(scaler.fit(x_train))\n",
    "# print(scaler.data_max_)\n",
    "x_train = scaler.transform(x_train)\n",
    "# print(scaler.data_max_)\n",
    "# print(x_train)\n",
    "print(x_train.min(), x_train.max())\n"
   ]
  },
  {
   "cell_type": "markdown",
   "metadata": {
    "colab_type": "text",
    "id": "6QujD5kV7As9"
   },
   "source": [
    "Нармалізацыя для тэставых, але тут нейкая лухта\n"
   ]
  },
  {
   "cell_type": "code",
   "execution_count": 8,
   "metadata": {
    "colab": {
     "base_uri": "https://localhost:8080/",
     "height": 52
    },
    "colab_type": "code",
    "id": "a7c7SC0C6_u_",
    "outputId": "647a1917-4072-4ce0-9b96-cd70e7fd2a3b"
   },
   "outputs": [
    {
     "name": "stdout",
     "output_type": "stream",
     "text": [
      "0 255\n",
      "-1.0 1.0\n"
     ]
    }
   ],
   "source": [
    "print(x_test.min(), x_test.max())\n",
    "scaler = MinMaxScaler((-1, 1), False)\n",
    "scaler.fit(x_test)\n",
    "x_test = scaler.transform(x_test)\n",
    "print(x_test.min(), x_test.max())"
   ]
  },
  {
   "cell_type": "markdown",
   "metadata": {
    "colab_type": "text",
    "id": "JRqwNnJBx994"
   },
   "source": [
    "Б'ем дадзеныя на трэйн і валідэйшн"
   ]
  },
  {
   "cell_type": "code",
   "execution_count": 9,
   "metadata": {
    "colab": {},
    "colab_type": "code",
    "id": "m0jbWWsnyhRg"
   },
   "outputs": [],
   "source": [
    "x_train, x_valid, y_train, y_valid = x_train[:50000], x_train[50000:], y_train[:50000], y_train[50000:]"
   ]
  },
  {
   "cell_type": "markdown",
   "metadata": {
    "colab_type": "text",
    "id": "J2xtL61ZydIU"
   },
   "source": [
    "Вызначаем параметры мадэлі"
   ]
  },
  {
   "cell_type": "code",
   "execution_count": 10,
   "metadata": {
    "colab": {
     "base_uri": "https://localhost:8080/",
     "height": 453
    },
    "colab_type": "code",
    "id": "lxDh4YvB4xbe",
    "outputId": "121aec2e-a188-44db-d459-83e97c6b99c1"
   },
   "outputs": [
    {
     "name": "stderr",
     "output_type": "stream",
     "text": [
      "Using TensorFlow backend.\n"
     ]
    },
    {
     "name": "stdout",
     "output_type": "stream",
     "text": [
      "Model: \"model_1\"\n",
      "_________________________________________________________________\n",
      "Layer (type)                 Output Shape              Param #   \n",
      "=================================================================\n",
      "input_1 (InputLayer)         (None, 784)               0         \n",
      "_________________________________________________________________\n",
      "dense_1 (Dense)              (None, 20)                15700     \n",
      "_________________________________________________________________\n",
      "activation_1 (Activation)    (None, 20)                0         \n",
      "_________________________________________________________________\n",
      "dropout_1 (Dropout)          (None, 20)                0         \n",
      "_________________________________________________________________\n",
      "dense_2 (Dense)              (None, 20)                420       \n",
      "_________________________________________________________________\n",
      "activation_2 (Activation)    (None, 20)                0         \n",
      "_________________________________________________________________\n",
      "dense_3 (Dense)              (None, 10)                210       \n",
      "=================================================================\n",
      "Total params: 16,330\n",
      "Trainable params: 16,330\n",
      "Non-trainable params: 0\n",
      "_________________________________________________________________\n"
     ]
    },
    {
     "name": "stderr",
     "output_type": "stream",
     "text": [
      "/opt/conda/lib/python3.6/site-packages/ipykernel_launcher.py:13: UserWarning: Update your `Model` call to the Keras 2 API: `Model(inputs=[<tf.Tenso..., outputs=[<tf.Tenso...)`\n",
      "  del sys.path[0]\n"
     ]
    }
   ],
   "source": [
    "from keras.layers import *\n",
    "from keras.models import Model, Sequential\n",
    "from keras.callbacks import CSVLogger, ModelCheckpoint\n",
    "\n",
    "x = Input(shape=(784,))\n",
    "y = Dense(20, activation=None)(x)\n",
    "y = Activation('elu')(y)\n",
    "y = Dropout(rate=0.3)(y)\n",
    "y = Dense(20, activation=None)(y)\n",
    "y = Activation('elu')(y)\n",
    "prediction = Dense(10, activation='softmax')(y)\n",
    "\n",
    "model = Model(inputs=[x], output=[prediction])\n",
    "\n",
    "model.compile(optimizer ='sgd',\n",
    "              loss = 'sparse_categorical_crossentropy',\n",
    "              metrics=['accuracy'])\n",
    "\n",
    "model.summary()"
   ]
  },
  {
   "cell_type": "code",
   "execution_count": null,
   "metadata": {
    "colab": {},
    "colab_type": "code",
    "id": "SToA5R2Ex9c8"
   },
   "outputs": [],
   "source": []
  },
  {
   "cell_type": "code",
   "execution_count": 11,
   "metadata": {
    "colab": {
     "base_uri": "https://localhost:8080/",
     "height": 745
    },
    "colab_type": "code",
    "id": "KHNPd-bpxwnO",
    "outputId": "d24a4728-0dd1-4f8b-aee9-6964f8949eb1"
   },
   "outputs": [
    {
     "name": "stdout",
     "output_type": "stream",
     "text": [
      "Train on 50000 samples, validate on 10000 samples\n",
      "Epoch 1/20\n",
      "50000/50000 [==============================] - 8s 161us/step - loss: 0.4883 - accuracy: 0.8512 - val_loss: 0.1235 - val_accuracy: 0.9635\n",
      "Epoch 2/20\n",
      "50000/50000 [==============================] - 8s 155us/step - loss: 0.2525 - accuracy: 0.9231 - val_loss: 0.0990 - val_accuracy: 0.9712\n",
      "Epoch 3/20\n",
      "50000/50000 [==============================] - 8s 153us/step - loss: 0.2227 - accuracy: 0.9311 - val_loss: 0.0815 - val_accuracy: 0.9751\n",
      "Epoch 4/20\n",
      "50000/50000 [==============================] - 8s 152us/step - loss: 0.2019 - accuracy: 0.9383 - val_loss: 0.0792 - val_accuracy: 0.9752\n",
      "Epoch 5/20\n",
      "50000/50000 [==============================] - 8s 152us/step - loss: 0.1940 - accuracy: 0.9400 - val_loss: 0.0832 - val_accuracy: 0.9757\n",
      "Epoch 6/20\n",
      "50000/50000 [==============================] - 8s 153us/step - loss: 0.1819 - accuracy: 0.9433 - val_loss: 0.0698 - val_accuracy: 0.9799\n",
      "Epoch 7/20\n",
      "50000/50000 [==============================] - 8s 150us/step - loss: 0.1743 - accuracy: 0.9464 - val_loss: 0.0678 - val_accuracy: 0.9795\n",
      "Epoch 8/20\n",
      "50000/50000 [==============================] - 8s 150us/step - loss: 0.1689 - accuracy: 0.9471 - val_loss: 0.0701 - val_accuracy: 0.9776\n",
      "Epoch 9/20\n",
      "50000/50000 [==============================] - 8s 150us/step - loss: 0.1649 - accuracy: 0.9488 - val_loss: 0.0888 - val_accuracy: 0.9700\n",
      "Epoch 10/20\n",
      "50000/50000 [==============================] - 7s 150us/step - loss: 0.1581 - accuracy: 0.9506 - val_loss: 0.0688 - val_accuracy: 0.9804\n",
      "Epoch 11/20\n",
      "50000/50000 [==============================] - 7s 149us/step - loss: 0.1550 - accuracy: 0.9502 - val_loss: 0.0627 - val_accuracy: 0.9794\n",
      "Epoch 12/20\n",
      "50000/50000 [==============================] - 7s 149us/step - loss: 0.1515 - accuracy: 0.9518 - val_loss: 0.0891 - val_accuracy: 0.9730\n",
      "Epoch 13/20\n",
      "50000/50000 [==============================] - 8s 150us/step - loss: 0.1494 - accuracy: 0.9524 - val_loss: 0.0675 - val_accuracy: 0.9791\n",
      "Epoch 14/20\n",
      "50000/50000 [==============================] - 8s 150us/step - loss: 0.1462 - accuracy: 0.9542 - val_loss: 0.0704 - val_accuracy: 0.9786\n",
      "Epoch 15/20\n",
      "50000/50000 [==============================] - 8s 153us/step - loss: 0.1458 - accuracy: 0.9547 - val_loss: 0.0612 - val_accuracy: 0.9809\n",
      "Epoch 16/20\n",
      "50000/50000 [==============================] - 7s 150us/step - loss: 0.1434 - accuracy: 0.9544 - val_loss: 0.0862 - val_accuracy: 0.9743\n",
      "Epoch 17/20\n",
      "50000/50000 [==============================] - 7s 149us/step - loss: 0.1400 - accuracy: 0.9564 - val_loss: 0.0958 - val_accuracy: 0.9703\n",
      "Epoch 18/20\n",
      "50000/50000 [==============================] - 7s 148us/step - loss: 0.1378 - accuracy: 0.9558 - val_loss: 0.0686 - val_accuracy: 0.9788\n",
      "Epoch 19/20\n",
      "50000/50000 [==============================] - 7s 148us/step - loss: 0.1345 - accuracy: 0.9572 - val_loss: 0.0639 - val_accuracy: 0.9806\n",
      "Epoch 20/20\n",
      "50000/50000 [==============================] - 7s 149us/step - loss: 0.1358 - accuracy: 0.9570 - val_loss: 0.0719 - val_accuracy: 0.9779\n"
     ]
    },
    {
     "data": {
      "text/plain": [
       "<keras.callbacks.callbacks.History at 0x7f55d029af60>"
      ]
     },
     "execution_count": 11,
     "metadata": {},
     "output_type": "execute_result"
    }
   ],
   "source": [
    "model.fit(\n",
    "    # x_train - 0.5, y_train,\n",
    "          x_train, y_train,\n",
    "          batch_size=16,\n",
    "          epochs=20,\n",
    "          verbose=1,\n",
    "          # validation_data=(x_valid - 0.5, y_valid),\n",
    "          validation_data=(x_valid, y_valid),\n",
    "          callbacks=[\n",
    "              CSVLogger('log.csv'),\n",
    "              ModelCheckpoint('model.h5', save_best_only=True),\n",
    "          ])"
   ]
  },
  {
   "cell_type": "code",
   "execution_count": 12,
   "metadata": {
    "colab": {
     "base_uri": "https://localhost:8080/",
     "height": 35
    },
    "colab_type": "code",
    "id": "quIxxQH901v1",
    "outputId": "2b20b209-08fa-435d-c246-80e27411a998"
   },
   "outputs": [
    {
     "name": "stdout",
     "output_type": "stream",
     "text": [
      "__notebook__.ipynb  __output__.json  log.csv  model.h5\r\n"
     ]
    }
   ],
   "source": [
    "!ls\n"
   ]
  },
  {
   "cell_type": "code",
   "execution_count": 13,
   "metadata": {},
   "outputs": [
    {
     "name": "stdout",
     "output_type": "stream",
     "text": [
      "[[-1. -1. -1. ... -1. -1. -1.]\n",
      " [-1. -1. -1. ... -1. -1. -1.]\n",
      " [-1. -1. -1. ... -1. -1. -1.]\n",
      " ...\n",
      " [-1. -1. -1. ... -1. -1. -1.]\n",
      " [-1. -1. -1. ... -1. -1. -1.]\n",
      " [-1. -1. -1. ... -1. -1. -1.]]\n"
     ]
    }
   ],
   "source": [
    "print(x_test)"
   ]
  },
  {
   "cell_type": "code",
   "execution_count": 14,
   "metadata": {
    "colab": {
     "base_uri": "https://localhost:8080/",
     "height": 35
    },
    "colab_type": "code",
    "id": "6Xr2sex-1X-T",
    "outputId": "fa8761f0-f2ee-4b27-cd07-e70f930b0743"
   },
   "outputs": [],
   "source": [
    "# model = keras.models.load_model('model.h5')\n",
    "\n",
    "# pred_probas = model.predict(x_test - 0.5, batch_size=16)\n",
    "pred_probas = model.predict(x_test, batch_size=16)\n",
    "\n",
    "prediction = pred_probas.argmax(axis=1)\n",
    "\n",
    "# predictions = model.predict(x_test)\n",
    "# print(predictions)"
   ]
  },
  {
   "cell_type": "code",
   "execution_count": 15,
   "metadata": {
    "colab": {},
    "colab_type": "code",
    "id": "SDO9il8j47th"
   },
   "outputs": [],
   "source": [
    "submission = pd.read_csv('../input/Kannada-MNIST/sample_submission.csv')"
   ]
  },
  {
   "cell_type": "code",
   "execution_count": 16,
   "metadata": {},
   "outputs": [],
   "source": [
    "submission['label'] = prediction"
   ]
  },
  {
   "cell_type": "code",
   "execution_count": 17,
   "metadata": {},
   "outputs": [
    {
     "data": {
      "text/html": [
       "<div>\n",
       "<style scoped>\n",
       "    .dataframe tbody tr th:only-of-type {\n",
       "        vertical-align: middle;\n",
       "    }\n",
       "\n",
       "    .dataframe tbody tr th {\n",
       "        vertical-align: top;\n",
       "    }\n",
       "\n",
       "    .dataframe thead th {\n",
       "        text-align: right;\n",
       "    }\n",
       "</style>\n",
       "<table border=\"1\" class=\"dataframe\">\n",
       "  <thead>\n",
       "    <tr style=\"text-align: right;\">\n",
       "      <th></th>\n",
       "      <th>id</th>\n",
       "      <th>label</th>\n",
       "    </tr>\n",
       "  </thead>\n",
       "  <tbody>\n",
       "    <tr>\n",
       "      <th>0</th>\n",
       "      <td>0</td>\n",
       "      <td>3</td>\n",
       "    </tr>\n",
       "    <tr>\n",
       "      <th>1</th>\n",
       "      <td>1</td>\n",
       "      <td>0</td>\n",
       "    </tr>\n",
       "    <tr>\n",
       "      <th>2</th>\n",
       "      <td>2</td>\n",
       "      <td>2</td>\n",
       "    </tr>\n",
       "    <tr>\n",
       "      <th>3</th>\n",
       "      <td>3</td>\n",
       "      <td>6</td>\n",
       "    </tr>\n",
       "    <tr>\n",
       "      <th>4</th>\n",
       "      <td>4</td>\n",
       "      <td>7</td>\n",
       "    </tr>\n",
       "  </tbody>\n",
       "</table>\n",
       "</div>"
      ],
      "text/plain": [
       "   id  label\n",
       "0   0      3\n",
       "1   1      0\n",
       "2   2      2\n",
       "3   3      6\n",
       "4   4      7"
      ]
     },
     "execution_count": 17,
     "metadata": {},
     "output_type": "execute_result"
    }
   ],
   "source": [
    "submission.head()"
   ]
  },
  {
   "cell_type": "code",
   "execution_count": 18,
   "metadata": {},
   "outputs": [],
   "source": [
    "submission.to_csv(\"submission.csv\",index=False)"
   ]
  },
  {
   "cell_type": "code",
   "execution_count": 19,
   "metadata": {},
   "outputs": [
    {
     "name": "stdout",
     "output_type": "stream",
     "text": [
      "__notebook__.ipynb  __output__.json  log.csv  model.h5\tsubmission.csv\r\n"
     ]
    }
   ],
   "source": [
    "!ls"
   ]
  }
 ],
 "metadata": {
  "accelerator": "TPU",
  "colab": {
   "name": "Untitled0.ipynb",
   "provenance": []
  },
  "kernelspec": {
   "display_name": "Python 3",
   "name": "python3"
  },
  "language_info": {
   "codemirror_mode": {
    "name": "ipython",
    "version": 3
   },
   "file_extension": ".py",
   "mimetype": "text/x-python",
   "name": "python",
   "nbconvert_exporter": "python",
   "pygments_lexer": "ipython3",
   "version": "3.6.6"
  }
 },
 "nbformat": 4,
 "nbformat_minor": 1
}
