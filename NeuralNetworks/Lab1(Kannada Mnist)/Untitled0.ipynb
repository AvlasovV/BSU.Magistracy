{
  "nbformat": 4,
  "nbformat_minor": 0,
  "metadata": {
    "colab": {
      "name": "Untitled0.ipynb",
      "provenance": []
    },
    "kernelspec": {
      "name": "python3",
      "display_name": "Python 3"
    },
    "accelerator": "TPU"
  },
  "cells": [
    {
      "cell_type": "markdown",
      "metadata": {
        "id": "iPIB8W0jzlaR",
        "colab_type": "text"
      },
      "source": [
        ""
      ]
    },
    {
      "cell_type": "markdown",
      "metadata": {
        "id": "XKvDW5fpznwB",
        "colab_type": "text"
      },
      "source": [
        "Падгружаем дадзеныя"
      ]
    },
    {
      "cell_type": "code",
      "metadata": {
        "id": "z5uQXIEaptwA",
        "colab_type": "code",
        "outputId": "8e358144-b2ca-4901-f10a-0536653058a5",
        "colab": {
          "base_uri": "https://localhost:8080/",
          "height": 124
        }
      },
      "source": [
        "from google.colab import drive\n",
        "drive.mount('/content/gdrive')"
      ],
      "execution_count": 0,
      "outputs": [
        {
          "output_type": "stream",
          "text": [
            "Go to this URL in a browser: https://accounts.google.com/o/oauth2/auth?client_id=947318989803-6bn6qk8qdgf4n4g3pfee6491hc0brc4i.apps.googleusercontent.com&redirect_uri=urn%3aietf%3awg%3aoauth%3a2.0%3aoob&response_type=code&scope=email%20https%3a%2f%2fwww.googleapis.com%2fauth%2fdocs.test%20https%3a%2f%2fwww.googleapis.com%2fauth%2fdrive%20https%3a%2f%2fwww.googleapis.com%2fauth%2fdrive.photos.readonly%20https%3a%2f%2fwww.googleapis.com%2fauth%2fpeopleapi.readonly\n",
            "\n",
            "Enter your authorization code:\n",
            "··········\n",
            "Mounted at /content/gdrive\n"
          ],
          "name": "stdout"
        }
      ]
    },
    {
      "cell_type": "code",
      "metadata": {
        "id": "_mthL5ncp-ry",
        "colab_type": "code",
        "outputId": "17d1510d-41d7-4013-f20b-76c62f533bb2",
        "colab": {
          "base_uri": "https://localhost:8080/",
          "height": 35
        }
      },
      "source": [
        "!ls /content/gdrive/"
      ],
      "execution_count": 0,
      "outputs": [
        {
          "output_type": "stream",
          "text": [
            "'My Drive'\n"
          ],
          "name": "stdout"
        }
      ]
    },
    {
      "cell_type": "code",
      "metadata": {
        "id": "muYyHsSqq10n",
        "colab_type": "code",
        "outputId": "4ecc59cb-d3e8-4f4c-8c0b-a1f1b21d023c",
        "colab": {
          "base_uri": "https://localhost:8080/",
          "height": 104
        }
      },
      "source": [
        "!ls -l \"/content/gdrive/My Drive/BSU/KannadaMnist\""
      ],
      "execution_count": 0,
      "outputs": [
        {
          "output_type": "stream",
          "text": [
            "total 128762\n",
            "-rw------- 1 root root  18401187 Nov 19 13:04 Dig-MNIST.csv\n",
            "-rw------- 1 root root     33899 Nov 19 13:04 sample_submission.csv\n",
            "-rw------- 1 root root   8667163 Nov 19 13:04 test.csv\n",
            "-rw------- 1 root root 104748945 Nov 19 13:04 train.csv\n"
          ],
          "name": "stdout"
        }
      ]
    },
    {
      "cell_type": "code",
      "metadata": {
        "id": "gvQqJmJgzPud",
        "colab_type": "code",
        "colab": {}
      },
      "source": [
        "!cp \"/content/gdrive/My Drive/BSU/KannadaMnist/train.csv\" train.csv\n",
        "!cp \"/content/gdrive/My Drive/BSU/KannadaMnist/test.csv\" test.csv"
      ],
      "execution_count": 0,
      "outputs": []
    },
    {
      "cell_type": "code",
      "metadata": {
        "id": "8bTeoHj5zg4d",
        "colab_type": "code",
        "outputId": "5d495cac-c57d-4c22-d28d-2287039f8ea8",
        "colab": {
          "base_uri": "https://localhost:8080/",
          "height": 35
        }
      },
      "source": [
        "!ls"
      ],
      "execution_count": 0,
      "outputs": [
        {
          "output_type": "stream",
          "text": [
            "gdrive\tsample_data  test.csv  train.csv\n"
          ],
          "name": "stdout"
        }
      ]
    },
    {
      "cell_type": "code",
      "metadata": {
        "id": "d55qYnmg0CDf",
        "colab_type": "code",
        "outputId": "cbee8175-0acf-4dea-f9bd-b2ed155802be",
        "colab": {
          "base_uri": "https://localhost:8080/",
          "height": 52
        }
      },
      "source": [
        "%tensorflow_version 1.x\n",
        "import tensorflow\n",
        "print(tensorflow.__version__)\n",
        "import tensorflow.keras as keras\n",
        "print(keras.__version__)"
      ],
      "execution_count": 0,
      "outputs": [
        {
          "output_type": "stream",
          "text": [
            "1.15.0\n",
            "2.2.4-tf\n"
          ],
          "name": "stdout"
        }
      ]
    },
    {
      "cell_type": "markdown",
      "metadata": {
        "id": "OD7COJSw2T6f",
        "colab_type": "text"
      },
      "source": [
        "Дастаем дадзеныя для трэйна і валідацыі"
      ]
    },
    {
      "cell_type": "code",
      "metadata": {
        "id": "EXiGKo4Y09WN",
        "colab_type": "code",
        "outputId": "9901faa8-2c96-4b99-daf1-136d74634322",
        "colab": {
          "base_uri": "https://localhost:8080/",
          "height": 52
        }
      },
      "source": [
        "import pandas as pd\n",
        "train_set = pd.read_csv(\"train.csv\")\n",
        "print(type(train_set))\n",
        "train_array = train_set.values\n",
        "y_train, x_train = train_array[:, :1], train_array[:, 1:]\n",
        "# print(y_train, y_train.shape,\"\\n\", x_train, x_train.shape)\n",
        "print(x_train.dtype, x_train.min(), x_train.max())\n"
      ],
      "execution_count": 0,
      "outputs": [
        {
          "output_type": "stream",
          "text": [
            "<class 'pandas.core.frame.DataFrame'>\n",
            "int64 0 255\n"
          ],
          "name": "stdout"
        }
      ]
    },
    {
      "cell_type": "markdown",
      "metadata": {
        "id": "mS-h_y2n2a59",
        "colab_type": "text"
      },
      "source": [
        "Дастаем дадзеныя для тэста\n"
      ]
    },
    {
      "cell_type": "code",
      "metadata": {
        "id": "-ldoK_4_2jfl",
        "colab_type": "code",
        "outputId": "2a40b8c8-cec6-4b3f-98a7-5216a52aca8c",
        "colab": {
          "base_uri": "https://localhost:8080/",
          "height": 35
        }
      },
      "source": [
        "test_set = pd.read_csv(\"test.csv\")\n",
        "print(type(test_set))\n",
        "test_array = test_set.values\n",
        "\n",
        "y_test, x_test = test_array[:, :1], test_array[:, 1:]"
      ],
      "execution_count": 0,
      "outputs": [
        {
          "output_type": "stream",
          "text": [
            "<class 'pandas.core.frame.DataFrame'>\n"
          ],
          "name": "stdout"
        }
      ]
    },
    {
      "cell_type": "code",
      "metadata": {
        "id": "F5CmHeSP7ReM",
        "colab_type": "code",
        "outputId": "4a172427-c248-4c73-f9d3-a38b0b627699",
        "colab": {
          "base_uri": "https://localhost:8080/",
          "height": 399
        }
      },
      "source": [
        "print(x_test)\n",
        "print(x_test.max(), x_test.min())\n",
        "print(y_test)\n",
        "print(y_train)"
      ],
      "execution_count": 0,
      "outputs": [
        {
          "output_type": "stream",
          "text": [
            "[[-1. -1. -1. ... -1. -1. -1.]\n",
            " [-1. -1. -1. ... -1. -1. -1.]\n",
            " [-1. -1. -1. ... -1. -1. -1.]\n",
            " ...\n",
            " [-1. -1. -1. ... -1. -1. -1.]\n",
            " [-1. -1. -1. ... -1. -1. -1.]\n",
            " [-1. -1. -1. ... -1. -1. -1.]]\n",
            "1.0 -1.0\n",
            "[[   0]\n",
            " [   1]\n",
            " [   2]\n",
            " ...\n",
            " [4997]\n",
            " [4998]\n",
            " [4999]]\n",
            "[[0]\n",
            " [1]\n",
            " [2]\n",
            " ...\n",
            " [7]\n",
            " [8]\n",
            " [9]]\n"
          ],
          "name": "stdout"
        }
      ]
    },
    {
      "cell_type": "markdown",
      "metadata": {
        "id": "7OdfbRt10Yh7",
        "colab_type": "text"
      },
      "source": [
        "Намалюем некалькі аб'ектаў"
      ]
    },
    {
      "cell_type": "code",
      "metadata": {
        "id": "oMjeN1O-4EhI",
        "colab_type": "code",
        "outputId": "4b648fcc-31c7-4ebc-9948-146dd5f50aaf",
        "colab": {
          "base_uri": "https://localhost:8080/",
          "height": 519
        }
      },
      "source": [
        "from skimage.io import imshow, imshow_collection\n",
        "\n",
        "imshow_collection(x_train[:12].reshape(12, 28, 28))\n"
      ],
      "execution_count": 0,
      "outputs": [
        {
          "output_type": "execute_result",
          "data": {
            "image/png": "[encoded data removed]",
            "text/plain": [
              "<Figure size 432x288 with 12 Axes>"
            ]
          },
          "metadata": {
            "tags": []
          },
          "execution_count": 38
        },
        {
          "output_type": "display_data",
          "data": {
            "image/png": "[encoded data removed]",
            "text/plain": [
              "<Figure size 432x288 with 12 Axes>"
            ]
          },
          "metadata": {
            "tags": []
          }
        }
      ]
    },
    {
      "cell_type": "markdown",
      "metadata": {
        "id": "ciLeOZl986Qg",
        "colab_type": "text"
      },
      "source": [
        "Нармалізуем дадзеныя\n"
      ]
    },
    {
      "cell_type": "code",
      "metadata": {
        "id": "ezw_GlV376yF",
        "colab_type": "code",
        "outputId": "fc15603e-8438-4621-bb8e-c4b5d626dbf1",
        "colab": {
          "base_uri": "https://localhost:8080/",
          "height": 69
        }
      },
      "source": [
        "from sklearn.preprocessing import MinMaxScaler\n",
        "\n",
        "scaler = MinMaxScaler((-1, 1), False)\n",
        "print(scaler.fit(x_train))\n",
        "# print(scaler.data_max_)\n",
        "x_train = scaler.transform(x_train)\n",
        "# print(scaler.data_max_)\n",
        "# print(x_train)\n",
        "print(x_train.min(), x_train.max())\n"
      ],
      "execution_count": 0,
      "outputs": [
        {
          "output_type": "stream",
          "text": [
            "MinMaxScaler(copy=False, feature_range=(-1, 1))\n",
            "-1.0 1.0\n",
            "-1.0 1.0\n"
          ],
          "name": "stdout"
        }
      ]
    },
    {
      "cell_type": "markdown",
      "metadata": {
        "id": "6QujD5kV7As9",
        "colab_type": "text"
      },
      "source": [
        "Нармалізацыя для тэставых, але тут нейкая лухта\n"
      ]
    },
    {
      "cell_type": "code",
      "metadata": {
        "id": "a7c7SC0C6_u_",
        "colab_type": "code",
        "outputId": "647a1917-4072-4ce0-9b96-cd70e7fd2a3b",
        "colab": {
          "base_uri": "https://localhost:8080/",
          "height": 52
        }
      },
      "source": [
        "print(x_test.min(), x_test.max())\n",
        "scaler = MinMaxScaler((-1, 1), False)\n",
        "scaler.fit(x_test)\n",
        "x_test = scaler.transform(x_test)\n",
        "print(x_test.min(), x_test.max())"
      ],
      "execution_count": 0,
      "outputs": [
        {
          "output_type": "stream",
          "text": [
            "0 255\n",
            "-1.0 1.0\n"
          ],
          "name": "stdout"
        }
      ]
    },
    {
      "cell_type": "markdown",
      "metadata": {
        "id": "JRqwNnJBx994",
        "colab_type": "text"
      },
      "source": [
        "Б'ем дадзеныя на трэйн і валідэйшн"
      ]
    },
    {
      "cell_type": "code",
      "metadata": {
        "id": "m0jbWWsnyhRg",
        "colab_type": "code",
        "colab": {}
      },
      "source": [
        "x_train, x_valid, y_train, y_valid = x_train[:50000], x_train[50000:], y_train[:50000], y_train[50000:]"
      ],
      "execution_count": 0,
      "outputs": []
    },
    {
      "cell_type": "markdown",
      "metadata": {
        "id": "J2xtL61ZydIU",
        "colab_type": "text"
      },
      "source": [
        "Вызначаем параметры мадэлі"
      ]
    },
    {
      "cell_type": "code",
      "metadata": {
        "id": "lxDh4YvB4xbe",
        "colab_type": "code",
        "outputId": "121aec2e-a188-44db-d459-83e97c6b99c1",
        "colab": {
          "base_uri": "https://localhost:8080/",
          "height": 453
        }
      },
      "source": [
        "from keras.layers import *\n",
        "from keras.models import Model\n",
        "from keras.callbacks import CSVLogger, ModelCheckpoint\n",
        "\n",
        "x = Input(shape=(784,))\n",
        "y = Dense(20, activation=None)(x)\n",
        "y = Activation('elu')(y)\n",
        "y = Dropout(rate=0.3)(y)\n",
        "y = Dense(20, activation=None)(y)\n",
        "y = Activation('elu')(y)\n",
        "prediction = Dense(10, activation='softmax')(y)\n",
        "\n",
        "model = Model(inputs=[x], output=[prediction])\n",
        "\n",
        "model.compile(optimizer ='sgd',\n",
        "              loss = 'sparse_categorical_crossentropy',\n",
        "              metrics=['accuracy'])\n",
        "\n",
        "model.summary()"
      ],
      "execution_count": 0,
      "outputs": [
        {
          "output_type": "stream",
          "text": [
            "Model: \"model_3\"\n",
            "_________________________________________________________________\n",
            "Layer (type)                 Output Shape              Param #   \n",
            "=================================================================\n",
            "input_3 (InputLayer)         (None, 784)               0         \n",
            "_________________________________________________________________\n",
            "dense_7 (Dense)              (None, 20)                15700     \n",
            "_________________________________________________________________\n",
            "activation_5 (Activation)    (None, 20)                0         \n",
            "_________________________________________________________________\n",
            "dropout_3 (Dropout)          (None, 20)                0         \n",
            "_________________________________________________________________\n",
            "dense_8 (Dense)              (None, 20)                420       \n",
            "_________________________________________________________________\n",
            "activation_6 (Activation)    (None, 20)                0         \n",
            "_________________________________________________________________\n",
            "dense_9 (Dense)              (None, 10)                210       \n",
            "=================================================================\n",
            "Total params: 16,330\n",
            "Trainable params: 16,330\n",
            "Non-trainable params: 0\n",
            "_________________________________________________________________\n"
          ],
          "name": "stdout"
        },
        {
          "output_type": "stream",
          "text": [
            "/usr/local/lib/python3.6/dist-packages/ipykernel_launcher.py:13: UserWarning: Update your `Model` call to the Keras 2 API: `Model(inputs=[<tf.Tenso..., outputs=[<tf.Tenso...)`\n",
            "  del sys.path[0]\n"
          ],
          "name": "stderr"
        }
      ]
    },
    {
      "cell_type": "code",
      "metadata": {
        "id": "SToA5R2Ex9c8",
        "colab_type": "code",
        "colab": {}
      },
      "source": [
        ""
      ],
      "execution_count": 0,
      "outputs": []
    },
    {
      "cell_type": "code",
      "metadata": {
        "id": "KHNPd-bpxwnO",
        "colab_type": "code",
        "outputId": "d24a4728-0dd1-4f8b-aee9-6964f8949eb1",
        "colab": {
          "base_uri": "https://localhost:8080/",
          "height": 745
        }
      },
      "source": [
        "model.fit(\n",
        "    # x_train - 0.5, y_train,\n",
        "          x_train, y_train,\n",
        "          batch_size=16,\n",
        "          epochs=20,\n",
        "          verbose=1,\n",
        "          # validation_data=(x_valid - 0.5, y_valid),\n",
        "          validation_data=(x_valid, y_valid),\n",
        "          callbacks=[\n",
        "              CSVLogger('log.csv'),\n",
        "              ModelCheckpoint('model.h5', save_best_only=True),\n",
        "          ])"
      ],
      "execution_count": 0,
      "outputs": [
        {
          "output_type": "stream",
          "text": [
            "Train on 50000 samples, validate on 10000 samples\n",
            "Epoch 1/20\n",
            "50000/50000 [==============================] - 6s 121us/step - loss: 0.5155 - acc: 0.8395 - val_loss: 0.1119 - val_acc: 0.9683\n",
            "Epoch 2/20\n",
            "50000/50000 [==============================] - 6s 112us/step - loss: 0.2653 - acc: 0.9189 - val_loss: 0.1105 - val_acc: 0.9667\n",
            "Epoch 3/20\n",
            "50000/50000 [==============================] - 6s 113us/step - loss: 0.2296 - acc: 0.9286 - val_loss: 0.0979 - val_acc: 0.9731\n",
            "Epoch 4/20\n",
            "50000/50000 [==============================] - 6s 114us/step - loss: 0.2119 - acc: 0.9350 - val_loss: 0.0921 - val_acc: 0.9725\n",
            "Epoch 5/20\n",
            "50000/50000 [==============================] - 5s 106us/step - loss: 0.1974 - acc: 0.9399 - val_loss: 0.0982 - val_acc: 0.9710\n",
            "Epoch 6/20\n",
            "50000/50000 [==============================] - 5s 107us/step - loss: 0.1865 - acc: 0.9425 - val_loss: 0.0875 - val_acc: 0.9747\n",
            "Epoch 7/20\n",
            "50000/50000 [==============================] - 5s 107us/step - loss: 0.1795 - acc: 0.9438 - val_loss: 0.0876 - val_acc: 0.9724\n",
            "Epoch 8/20\n",
            "50000/50000 [==============================] - 5s 105us/step - loss: 0.1719 - acc: 0.9461 - val_loss: 0.0755 - val_acc: 0.9767\n",
            "Epoch 9/20\n",
            "50000/50000 [==============================] - 5s 106us/step - loss: 0.1701 - acc: 0.9472 - val_loss: 0.0887 - val_acc: 0.9733\n",
            "Epoch 10/20\n",
            "50000/50000 [==============================] - 5s 106us/step - loss: 0.1641 - acc: 0.9483 - val_loss: 0.0765 - val_acc: 0.9765\n",
            "Epoch 11/20\n",
            "50000/50000 [==============================] - 5s 108us/step - loss: 0.1581 - acc: 0.9503 - val_loss: 0.0919 - val_acc: 0.9693\n",
            "Epoch 12/20\n",
            "50000/50000 [==============================] - 5s 106us/step - loss: 0.1561 - acc: 0.9517 - val_loss: 0.0851 - val_acc: 0.9753\n",
            "Epoch 13/20\n",
            "50000/50000 [==============================] - 5s 106us/step - loss: 0.1518 - acc: 0.9523 - val_loss: 0.0836 - val_acc: 0.9750\n",
            "Epoch 14/20\n",
            "50000/50000 [==============================] - 5s 106us/step - loss: 0.1523 - acc: 0.9513 - val_loss: 0.0663 - val_acc: 0.9789\n",
            "Epoch 15/20\n",
            "50000/50000 [==============================] - 5s 106us/step - loss: 0.1483 - acc: 0.9539 - val_loss: 0.0698 - val_acc: 0.9784\n",
            "Epoch 16/20\n",
            "50000/50000 [==============================] - 5s 104us/step - loss: 0.1467 - acc: 0.9536 - val_loss: 0.0736 - val_acc: 0.9775\n",
            "Epoch 17/20\n",
            "50000/50000 [==============================] - 5s 107us/step - loss: 0.1436 - acc: 0.9549 - val_loss: 0.0701 - val_acc: 0.9789\n",
            "Epoch 18/20\n",
            "50000/50000 [==============================] - 5s 106us/step - loss: 0.1402 - acc: 0.9553 - val_loss: 0.0612 - val_acc: 0.9804\n",
            "Epoch 19/20\n",
            "50000/50000 [==============================] - 5s 105us/step - loss: 0.1381 - acc: 0.9563 - val_loss: 0.0670 - val_acc: 0.9804\n",
            "Epoch 20/20\n",
            "50000/50000 [==============================] - 5s 105us/step - loss: 0.1370 - acc: 0.9567 - val_loss: 0.0706 - val_acc: 0.9788\n"
          ],
          "name": "stdout"
        },
        {
          "output_type": "execute_result",
          "data": {
            "text/plain": [
              "<keras.callbacks.History at 0x7f6070dbfcc0>"
            ]
          },
          "metadata": {
            "tags": []
          },
          "execution_count": 42
        }
      ]
    },
    {
      "cell_type": "code",
      "metadata": {
        "id": "quIxxQH901v1",
        "colab_type": "code",
        "outputId": "2b20b209-08fa-435d-c246-80e27411a998",
        "colab": {
          "base_uri": "https://localhost:8080/",
          "height": 35
        }
      },
      "source": [
        "!ls\n"
      ],
      "execution_count": 0,
      "outputs": [
        {
          "output_type": "stream",
          "text": [
            "gdrive\tlog.csv  model.h5  sample_data\ttest.csv  train.csv\n"
          ],
          "name": "stdout"
        }
      ]
    },
    {
      "cell_type": "code",
      "metadata": {
        "id": "6Xr2sex-1X-T",
        "colab_type": "code",
        "outputId": "fa8761f0-f2ee-4b27-cd07-e70f930b0743",
        "colab": {
          "base_uri": "https://localhost:8080/",
          "height": 35
        }
      },
      "source": [
        "model = keras.models.load_model('model.h5')\n",
        "\n",
        "# pred_probas = model.predict(x_test - 0.5, batch_size=16)\n",
        "pred_probas = model.predict(x_test, batch_size=16)\n",
        "\n",
        "prediction = pred_probas.argmax(axis=1)"
      ],
      "execution_count": 62,
      "outputs": [
        {
          "output_type": "stream",
          "text": [
            "WARNING:tensorflow:Error in loading the saved optimizer state. As a result, your model is starting with a freshly initialized optimizer.\n"
          ],
          "name": "stdout"
        }
      ]
    },
    {
      "cell_type": "code",
      "metadata": {
        "id": "MDD_EhcI4f1O",
        "colab_type": "code",
        "colab": {}
      },
      "source": [
        "from sklearn.metrics import accuracy_score"
      ],
      "execution_count": 0,
      "outputs": []
    },
    {
      "cell_type": "markdown",
      "metadata": {
        "id": "v5Sdb6tm_Adp",
        "colab_type": "text"
      },
      "source": [
        "Бескарысная праверка на гэтым датасэце, бо y_test не мае сапраўднай разметкі"
      ]
    },
    {
      "cell_type": "code",
      "metadata": {
        "id": "mS3diqSb4iqJ",
        "colab_type": "code",
        "outputId": "811410dc-f3d8-4dce-d0f9-c9a56a50bee3",
        "colab": {
          "base_uri": "https://localhost:8080/",
          "height": 35
        }
      },
      "source": [
        "# accuracy_score(y_test, prediction)"
      ],
      "execution_count": 0,
      "outputs": [
        {
          "output_type": "execute_result",
          "data": {
            "text/plain": [
              "0.0002"
            ]
          },
          "metadata": {
            "tags": []
          },
          "execution_count": 49
        }
      ]
    },
    {
      "cell_type": "code",
      "metadata": {
        "id": "o2gpCztUACCk",
        "colab_type": "code",
        "colab": {
          "base_uri": "https://localhost:8080/",
          "height": 381
        },
        "outputId": "b93ba4bf-1424-48ed-b852-5d82f9f9654e"
      },
      "source": [
        "!cat log.csv\n"
      ],
      "execution_count": 61,
      "outputs": [
        {
          "output_type": "stream",
          "text": [
            "epoch,acc,loss,val_acc,val_loss\r\n",
            "0,0.8395,0.5155130996188522,0.9683,0.11185427589416504\r\n",
            "1,0.91886,0.26531369453549386,0.9667,0.11050195752456785\r\n",
            "2,0.92858,0.2296367123568058,0.9731,0.09791627299226821\r\n",
            "3,0.93504,0.21185728057041764,0.9725,0.09209404781088233\r\n",
            "4,0.93992,0.19743387719094754,0.971,0.09823257425073534\r\n",
            "5,0.94248,0.1865246699436009,0.9747,0.08752264567650854\r\n",
            "6,0.9438,0.17954452091492712,0.9724,0.0875665807466954\r\n",
            "7,0.94608,0.17192983256056904,0.9767,0.07551198994247244\r\n",
            "8,0.94722,0.17005499748386443,0.9733,0.08868894231980666\r\n",
            "9,0.9483,0.16409811073943972,0.9765,0.0764820150100626\r\n",
            "10,0.9503,0.15812476480707527,0.9693,0.09192492479663342\r\n",
            "11,0.95168,0.15607044981054963,0.9753,0.08511665614545345\r\n",
            "12,0.9523,0.15179268700685353,0.975,0.08360209571253509\r\n",
            "13,0.95126,0.15225655336536467,0.9789,0.06634147011656315\r\n",
            "14,0.95392,0.14826682128883897,0.9784,0.06984598442595452\r\n",
            "15,0.95358,0.14674477923892437,0.9775,0.07359305650717579\r\n",
            "16,0.9549,0.14356840894330292,0.9789,0.07014972531106323\r\n",
            "17,0.95526,0.14016344388451427,0.9804,0.061247146148467435\r\n",
            "18,0.95634,0.13807197878202424,0.9804,0.06704946134653873\r\n",
            "19,0.9567,0.13702853763498365,0.9788,0.07058131554247811\r\n"
          ],
          "name": "stdout"
        }
      ]
    },
    {
      "cell_type": "code",
      "metadata": {
        "id": "fA8N84pN42uo",
        "colab_type": "code",
        "colab": {}
      },
      "source": [
        "from google.colab import files\n",
        "files.download('model.h5') \n",
        "# files.download('prediction.csv') "
      ],
      "execution_count": 0,
      "outputs": []
    },
    {
      "cell_type": "code",
      "metadata": {
        "id": "SDO9il8j47th",
        "colab_type": "code",
        "colab": {}
      },
      "source": [
        "!cp \"model.h5\" \"/content/gdrive/My Drive/BSU/KannadaMnist/model.h5\""
      ],
      "execution_count": 0,
      "outputs": []
    }
  ]
}