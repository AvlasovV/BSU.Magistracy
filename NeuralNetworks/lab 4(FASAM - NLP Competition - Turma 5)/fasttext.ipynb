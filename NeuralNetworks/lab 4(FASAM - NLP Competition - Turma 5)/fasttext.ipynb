{
 "cells": [
  {
   "cell_type": "code",
   "execution_count": 1,
   "metadata": {
    "_cell_guid": "b1076dfc-b9ad-4769-8c92-a6c4dae69d19",
    "_uuid": "8f2839f25d086af736a60e9eeb907d3b93b6e0e5"
   },
   "outputs": [
    {
     "name": "stdout",
     "output_type": "stream",
     "text": [
      "['test.csv', 'train.csv', 'sample_submission.csv']\n",
      "['fasam-nlp-competition-turma-5', 'fasttextportuguese300txt']\n"
     ]
    }
   ],
   "source": [
    "import numpy as np # linear algebra\n",
    "import pandas as pd # data processing, CSV file I/O (e.g. pd.read_csv)\n",
    "import os\n",
    "print(os.listdir(\"../input/fasam-nlp-competition-turma-5\"))\n",
    "print(os.listdir(\"../input/\"))"
   ]
  },
  {
   "cell_type": "markdown",
   "metadata": {},
   "source": [
    "### Problema\n",
    "\n",
    "A magazine needs to catalog all its news in different categories. The goal of this competition is to develop the best deep learning model to predict the categoty of new news.\n",
    "\n",
    "Possible categories are:\n",
    "\n",
    "- ambiente (environment)\n",
    "- equilibrioesaude (balance and health)\n",
    "- sobretudo (about everything)\n",
    "- educacao (education)\n",
    "- ciencia (science)\n",
    "- tec (tec)\n",
    "- turismo (tourism)\n",
    "- empreendedorsocial (social entrepreneurs)\n",
    "- comida (food)"
   ]
  },
  {
   "cell_type": "code",
   "execution_count": 2,
   "metadata": {},
   "outputs": [],
   "source": [
    "import numpy as np\n",
    "import pandas as pd\n",
    "import seaborn as sns\n",
    "import warnings\n",
    "import matplotlib\n",
    "import matplotlib.pyplot as plt\n",
    "\n",
    "%matplotlib inline\n",
    "\n",
    "sns.set(style=\"ticks\")\n",
    "warnings.filterwarnings(\"ignore\")"
   ]
  },
  {
   "cell_type": "code",
   "execution_count": 3,
   "metadata": {},
   "outputs": [
    {
     "name": "stderr",
     "output_type": "stream",
     "text": [
      "Using TensorFlow backend.\n"
     ]
    }
   ],
   "source": [
    "import keras\n",
    "from keras.models import Model\n",
    "from keras.layers import *\n",
    "from keras.optimizers import *\n",
    "from keras.losses import *\n",
    "from keras.regularizers import *\n",
    "from keras.models import Sequential\n",
    "from keras.callbacks import *\n",
    "from keras.preprocessing import sequence\n",
    "from keras.preprocessing.sequence import pad_sequences\n",
    "from keras.preprocessing.text import Tokenizer\n",
    "from keras.layers.embeddings import Embedding\n",
    "from sklearn.model_selection import train_test_split"
   ]
  },
  {
   "cell_type": "code",
   "execution_count": 4,
   "metadata": {},
   "outputs": [],
   "source": [
    "import io"
   ]
  },
  {
   "cell_type": "markdown",
   "metadata": {},
   "source": [
    "# Data preprocessing"
   ]
  },
  {
   "cell_type": "code",
   "execution_count": 5,
   "metadata": {},
   "outputs": [
    {
     "name": "stdout",
     "output_type": "stream",
     "text": [
      "(7894, 4)\n"
     ]
    },
    {
     "data": {
      "text/html": [
       "<div>\n",
       "<style scoped>\n",
       "    .dataframe tbody tr th:only-of-type {\n",
       "        vertical-align: middle;\n",
       "    }\n",
       "\n",
       "    .dataframe tbody tr th {\n",
       "        vertical-align: top;\n",
       "    }\n",
       "\n",
       "    .dataframe thead th {\n",
       "        text-align: right;\n",
       "    }\n",
       "</style>\n",
       "<table border=\"1\" class=\"dataframe\">\n",
       "  <thead>\n",
       "    <tr style=\"text-align: right;\">\n",
       "      <th></th>\n",
       "      <th>article_id</th>\n",
       "      <th>title</th>\n",
       "      <th>text</th>\n",
       "      <th>category</th>\n",
       "    </tr>\n",
       "  </thead>\n",
       "  <tbody>\n",
       "    <tr>\n",
       "      <th>0</th>\n",
       "      <td>8409</td>\n",
       "      <td>Muralha de Lisboa é rota arqueológica com mais...</td>\n",
       "      <td>O urbanismo anárquico dos bairros mais antigos...</td>\n",
       "      <td>turismo</td>\n",
       "    </tr>\n",
       "    <tr>\n",
       "      <th>1</th>\n",
       "      <td>5714</td>\n",
       "      <td>Endeavor lança mapa inédito sobre negócios soc...</td>\n",
       "      <td>As empresas sociais mostraram que é possível u...</td>\n",
       "      <td>empreendedorsocial</td>\n",
       "    </tr>\n",
       "    <tr>\n",
       "      <th>2</th>\n",
       "      <td>9263</td>\n",
       "      <td>Falta de neve no Chile atrasa abertura de esta...</td>\n",
       "      <td>Ao menos quatro estações de esqui no centro do...</td>\n",
       "      <td>turismo</td>\n",
       "    </tr>\n",
       "    <tr>\n",
       "      <th>3</th>\n",
       "      <td>2649</td>\n",
       "      <td>Gravidez causa mudanças no cérebro das mulheres</td>\n",
       "      <td>A gravidez provoca mudanças físicas \"duradoura...</td>\n",
       "      <td>ciencia</td>\n",
       "    </tr>\n",
       "    <tr>\n",
       "      <th>4</th>\n",
       "      <td>6698</td>\n",
       "      <td>Facebook provoca erros em aplicativo para test...</td>\n",
       "      <td>Alguma vez você já ouviu a frase \"o Facebook e...</td>\n",
       "      <td>tec</td>\n",
       "    </tr>\n",
       "  </tbody>\n",
       "</table>\n",
       "</div>"
      ],
      "text/plain": [
       "   article_id                                              title  \\\n",
       "0        8409  Muralha de Lisboa é rota arqueológica com mais...   \n",
       "1        5714  Endeavor lança mapa inédito sobre negócios soc...   \n",
       "2        9263  Falta de neve no Chile atrasa abertura de esta...   \n",
       "3        2649    Gravidez causa mudanças no cérebro das mulheres   \n",
       "4        6698  Facebook provoca erros em aplicativo para test...   \n",
       "\n",
       "                                                text            category  \n",
       "0  O urbanismo anárquico dos bairros mais antigos...             turismo  \n",
       "1  As empresas sociais mostraram que é possível u...  empreendedorsocial  \n",
       "2  Ao menos quatro estações de esqui no centro do...             turismo  \n",
       "3  A gravidez provoca mudanças físicas \"duradoura...             ciencia  \n",
       "4  Alguma vez você já ouviu a frase \"o Facebook e...                 tec  "
      ]
     },
     "execution_count": 5,
     "metadata": {},
     "output_type": "execute_result"
    }
   ],
   "source": [
    "# Leitura do Dataset\n",
    "df = pd.read_csv('../input/fasam-nlp-competition-turma-5/train.csv')\n",
    "print(df.shape)\n",
    "df.head()"
   ]
  },
  {
   "cell_type": "code",
   "execution_count": 6,
   "metadata": {},
   "outputs": [],
   "source": [
    "# sequence size\n",
    "titles_seq_size = 20\n",
    "texts_seq_size  = 200\n",
    "\n",
    "# max tokens\n",
    "max_tokens    = 5000\n",
    "\n",
    "# embedding size\n",
    "embed_dim    = 300"
   ]
  },
  {
   "cell_type": "code",
   "execution_count": 7,
   "metadata": {},
   "outputs": [],
   "source": [
    "def load_vectors(fname):\n",
    "    fin = io.open(fname, 'r', encoding='utf-8', newline='\\n', errors='ignore')\n",
    "    n, d = map(int, fin.readline().split())\n",
    "    data = {}\n",
    "    for line in fin:\n",
    "        tokens = line.rstrip().split(' ')\n",
    "        data[tokens[0]] = list(map(float, tokens[1:]))\n",
    "    return data"
   ]
  },
  {
   "cell_type": "code",
   "execution_count": 8,
   "metadata": {},
   "outputs": [
    {
     "name": "stdout",
     "output_type": "stream",
     "text": [
      "CPU times: user 1min 4s, sys: 4.43 s, total: 1min 8s\n",
      "Wall time: 1min 8s\n"
     ]
    }
   ],
   "source": [
    "%%time\n",
    "embedding_vectors = load_vectors('../input/fasttextportuguese300txt/wiki.pt.vec')"
   ]
  },
  {
   "cell_type": "code",
   "execution_count": 9,
   "metadata": {},
   "outputs": [],
   "source": [
    "def build_embedding_matrix(embedding, word_index):    \n",
    "    not_found = []\n",
    "    embedding_matrix = np.zeros((max_tokens + 1, embed_dim))\n",
    "    for word, i in word_index.items():\n",
    "        if i > max_tokens:\n",
    "            continue\n",
    "        embedding_vector = embedding.get(word)\n",
    "        if embedding_vector is not None:\n",
    "            embedding_matrix[i] = embedding_vector\n",
    "        else:\n",
    "            # words not found in embedding index will be all-zeros\n",
    "            not_found.append(word)\n",
    "    return embedding_matrix, not_found        "
   ]
  },
  {
   "cell_type": "code",
   "execution_count": 10,
   "metadata": {},
   "outputs": [],
   "source": [
    "tokenizer    = Tokenizer(num_words=max_tokens + 1, split=' ')\n",
    "tokenizer.fit_on_texts(np.concatenate([df['text'].values, df['title'].values]))\n",
    "\n",
    "def preprocess(data, embedding, seq_size):\n",
    "    \n",
    "    dt = tokenizer.texts_to_sequences(data)   \n",
    "\n",
    "    # unify length\n",
    "    X = pad_sequences(dt, maxlen=seq_size)\n",
    "    \n",
    "    embedding_matrix, not_found = build_embedding_matrix(embedding_vectors, tokenizer.word_index)\n",
    "    print(\"{} words were not found\".format(len(not_found)))\n",
    "    return X, embedding_matrix"
   ]
  },
  {
   "cell_type": "code",
   "execution_count": 11,
   "metadata": {},
   "outputs": [
    {
     "name": "stdout",
     "output_type": "stream",
     "text": [
      "182 words were not found\n",
      "182 words were not found\n",
      "CPU times: user 6.56 s, sys: 68 ms, total: 6.63 s\n",
      "Wall time: 6.61 s\n"
     ]
    }
   ],
   "source": [
    "%%time\n",
    "X_title, em_title = preprocess(df['title'], embedding_vectors, titles_seq_size)\n",
    "X_text, em_text = preprocess(df['text'], embedding_vectors, texts_seq_size)"
   ]
  },
  {
   "cell_type": "code",
   "execution_count": 12,
   "metadata": {},
   "outputs": [
    {
     "data": {
      "text/plain": [
       "((7894, 200), (7894, 20))"
      ]
     },
     "execution_count": 12,
     "metadata": {},
     "output_type": "execute_result"
    }
   ],
   "source": [
    "X_text.shape, X_title.shape"
   ]
  },
  {
   "cell_type": "code",
   "execution_count": 13,
   "metadata": {},
   "outputs": [],
   "source": [
    "# format categories\n",
    "y_classes = pd.get_dummies(df['category']).columns\n",
    "y = pd.get_dummies(df['category']).values"
   ]
  },
  {
   "cell_type": "code",
   "execution_count": 14,
   "metadata": {},
   "outputs": [
    {
     "data": {
      "text/plain": [
       "Index(['ambiente', 'ciencia', 'comida', 'educacao', 'empreendedorsocial',\n",
       "       'equilibrioesaude', 'sobretudo', 'tec', 'turismo'],\n",
       "      dtype='object')"
      ]
     },
     "execution_count": 14,
     "metadata": {},
     "output_type": "execute_result"
    }
   ],
   "source": [
    "y_classes"
   ]
  },
  {
   "cell_type": "code",
   "execution_count": 15,
   "metadata": {},
   "outputs": [
    {
     "data": {
      "text/plain": [
       "array([[0, 0, 0, ..., 0, 0, 1],\n",
       "       [0, 0, 0, ..., 0, 0, 0],\n",
       "       [0, 0, 0, ..., 0, 0, 1],\n",
       "       ...,\n",
       "       [0, 0, 0, ..., 1, 0, 0],\n",
       "       [0, 0, 0, ..., 0, 0, 0],\n",
       "       [0, 0, 0, ..., 0, 0, 0]], dtype=uint8)"
      ]
     },
     "execution_count": 15,
     "metadata": {},
     "output_type": "execute_result"
    }
   ],
   "source": [
    "y"
   ]
  },
  {
   "cell_type": "code",
   "execution_count": 16,
   "metadata": {},
   "outputs": [
    {
     "data": {
      "text/plain": [
       "(7894, 9)"
      ]
     },
     "execution_count": 16,
     "metadata": {},
     "output_type": "execute_result"
    }
   ],
   "source": [
    "y.shape"
   ]
  },
  {
   "cell_type": "markdown",
   "metadata": {},
   "source": [
    "# Create Base Model"
   ]
  },
  {
   "cell_type": "code",
   "execution_count": 17,
   "metadata": {},
   "outputs": [
    {
     "name": "stdout",
     "output_type": "stream",
     "text": [
      "Model: \"model_1\"\n",
      "__________________________________________________________________________________________________\n",
      "Layer (type)                    Output Shape         Param #     Connected to                     \n",
      "==================================================================================================\n",
      "input_1 (InputLayer)            (None, 20)           0                                            \n",
      "__________________________________________________________________________________________________\n",
      "input_2 (InputLayer)            (None, 200)          0                                            \n",
      "__________________________________________________________________________________________________\n",
      "embedding_1 (Embedding)         (None, 20, 300)      1500300     input_1[0][0]                    \n",
      "__________________________________________________________________________________________________\n",
      "embedding_2 (Embedding)         (None, 200, 300)     1500300     input_2[0][0]                    \n",
      "__________________________________________________________________________________________________\n",
      "concatenate_1 (Concatenate)     (None, 220, 300)     0           embedding_1[0][0]                \n",
      "                                                                 embedding_2[0][0]                \n",
      "__________________________________________________________________________________________________\n",
      "conv1d_1 (Conv1D)               (None, 110, 16)      9616        concatenate_1[0][0]              \n",
      "__________________________________________________________________________________________________\n",
      "dropout_1 (Dropout)             (None, 110, 16)      0           conv1d_1[0][0]                   \n",
      "__________________________________________________________________________________________________\n",
      "conv1d_2 (Conv1D)               (None, 54, 16)       784         dropout_1[0][0]                  \n",
      "__________________________________________________________________________________________________\n",
      "dropout_2 (Dropout)             (None, 54, 16)       0           conv1d_2[0][0]                   \n",
      "__________________________________________________________________________________________________\n",
      "conv1d_3 (Conv1D)               (None, 26, 32)       1568        dropout_2[0][0]                  \n",
      "__________________________________________________________________________________________________\n",
      "flatten_1 (Flatten)             (None, 832)          0           conv1d_3[0][0]                   \n",
      "__________________________________________________________________________________________________\n",
      "dense_1 (Dense)                 (None, 9)            7497        flatten_1[0][0]                  \n",
      "==================================================================================================\n",
      "Total params: 3,020,065\n",
      "Trainable params: 19,465\n",
      "Non-trainable params: 3,000,600\n",
      "__________________________________________________________________________________________________\n"
     ]
    }
   ],
   "source": [
    "def create_model():\n",
    "    # Prepare inputs\n",
    "    x_1 = Input(shape=(titles_seq_size,))\n",
    "    t_1 = Embedding(max_tokens + 1, embed_dim, weights=[em_title], trainable=False)(x_1)\n",
    "    x_2 = Input(shape=(texts_seq_size,))\n",
    "    t_2 = Embedding(max_tokens + 1, embed_dim, weights=[em_text], trainable=False)(x_2)\n",
    "    \n",
    "    # Concatenate inputs\n",
    "    t = Concatenate(axis=1)([t_1, t_2])\n",
    "    \n",
    "    # Conv Layers\n",
    "    t = Conv1D(16, kernel_size=2, strides=2, activation='relu')(t)\n",
    "    t = Dropout(0.5)(t)\n",
    "    t = Conv1D(16, kernel_size=3, strides=2, activation='relu')(t)\n",
    "    t = Dropout(0.5)(t)\n",
    "    t = Conv1D(32, kernel_size=3, strides=2, activation='relu')(t)\n",
    "    t = Flatten()(t)\n",
    "    # Dense Layer\n",
    "    pred = Dense(len(y_classes), activation='softmax')(t)\n",
    "    \n",
    "    model = Model(inputs=[x_1, x_2], outputs=[pred])\n",
    "    \n",
    "    model.compile(loss = 'categorical_crossentropy', \n",
    "                  optimizer='adam',\n",
    "                  metrics = ['accuracy'])\n",
    "    \n",
    "    model.summary()\n",
    "    \n",
    "    return model\n",
    "\n",
    "model = create_model()"
   ]
  },
  {
   "cell_type": "code",
   "execution_count": 18,
   "metadata": {
    "scrolled": false
   },
   "outputs": [
    {
     "name": "stdout",
     "output_type": "stream",
     "text": [
      "Train on 5288 samples, validate on 2606 samples\n",
      "Epoch 1/30\n",
      "5288/5288 [==============================] - 7s 1ms/step - loss: 1.8836 - accuracy: 0.2831 - val_loss: 1.4831 - val_accuracy: 0.4747\n",
      "\n",
      "Epoch 00001: val_accuracy improved from -inf to 0.47467, saving model to model.h5\n",
      "Epoch 2/30\n",
      "5288/5288 [==============================] - 3s 516us/step - loss: 1.4104 - accuracy: 0.4809 - val_loss: 1.2761 - val_accuracy: 0.5476\n",
      "\n",
      "Epoch 00002: val_accuracy improved from 0.47467 to 0.54758, saving model to model.h5\n",
      "Epoch 3/30\n",
      "5288/5288 [==============================] - 3s 504us/step - loss: 1.1983 - accuracy: 0.5675 - val_loss: 1.0754 - val_accuracy: 0.6086\n",
      "\n",
      "Epoch 00003: val_accuracy improved from 0.54758 to 0.60860, saving model to model.h5\n",
      "Epoch 4/30\n",
      "5288/5288 [==============================] - 3s 485us/step - loss: 1.0289 - accuracy: 0.6197 - val_loss: 0.9806 - val_accuracy: 0.6489\n",
      "\n",
      "Epoch 00004: val_accuracy improved from 0.60860 to 0.64889, saving model to model.h5\n",
      "Epoch 5/30\n",
      "5288/5288 [==============================] - 3s 540us/step - loss: 0.9446 - accuracy: 0.6466 - val_loss: 0.8821 - val_accuracy: 0.6888\n",
      "\n",
      "Epoch 00005: val_accuracy improved from 0.64889 to 0.68880, saving model to model.h5\n",
      "Epoch 6/30\n",
      "5288/5288 [==============================] - 3s 528us/step - loss: 0.8695 - accuracy: 0.6848 - val_loss: 0.8455 - val_accuracy: 0.7153\n",
      "\n",
      "Epoch 00006: val_accuracy improved from 0.68880 to 0.71527, saving model to model.h5\n",
      "Epoch 7/30\n",
      "5288/5288 [==============================] - 3s 493us/step - loss: 0.8228 - accuracy: 0.7067 - val_loss: 0.8342 - val_accuracy: 0.7157\n",
      "\n",
      "Epoch 00007: val_accuracy improved from 0.71527 to 0.71566, saving model to model.h5\n",
      "Epoch 8/30\n",
      "5288/5288 [==============================] - 3s 537us/step - loss: 0.7869 - accuracy: 0.7267 - val_loss: 0.7618 - val_accuracy: 0.7471\n",
      "\n",
      "Epoch 00008: val_accuracy improved from 0.71566 to 0.74712, saving model to model.h5\n",
      "Epoch 9/30\n",
      "5288/5288 [==============================] - 3s 524us/step - loss: 0.7468 - accuracy: 0.7351 - val_loss: 0.8368 - val_accuracy: 0.7199\n",
      "\n",
      "Epoch 00009: val_accuracy did not improve from 0.74712\n",
      "Epoch 10/30\n",
      "5288/5288 [==============================] - 3s 531us/step - loss: 0.6867 - accuracy: 0.7579 - val_loss: 0.7109 - val_accuracy: 0.7759\n",
      "\n",
      "Epoch 00010: val_accuracy improved from 0.74712 to 0.77590, saving model to model.h5\n",
      "Epoch 11/30\n",
      "5288/5288 [==============================] - 3s 529us/step - loss: 0.6711 - accuracy: 0.7653 - val_loss: 0.7013 - val_accuracy: 0.7740\n",
      "\n",
      "Epoch 00011: val_accuracy did not improve from 0.77590\n",
      "Epoch 12/30\n",
      "5288/5288 [==============================] - 3s 549us/step - loss: 0.6368 - accuracy: 0.7769 - val_loss: 0.6850 - val_accuracy: 0.7782\n",
      "\n",
      "Epoch 00012: val_accuracy improved from 0.77590 to 0.77820, saving model to model.h5\n",
      "Epoch 13/30\n",
      "5288/5288 [==============================] - 3s 535us/step - loss: 0.6257 - accuracy: 0.7793 - val_loss: 0.6443 - val_accuracy: 0.7943\n",
      "\n",
      "Epoch 00013: val_accuracy improved from 0.77820 to 0.79432, saving model to model.h5\n",
      "Epoch 14/30\n",
      "5288/5288 [==============================] - 3s 512us/step - loss: 0.5947 - accuracy: 0.7958 - val_loss: 0.6426 - val_accuracy: 0.7905\n",
      "\n",
      "Epoch 00014: val_accuracy did not improve from 0.79432\n",
      "Epoch 15/30\n",
      "5288/5288 [==============================] - 3s 522us/step - loss: 0.5914 - accuracy: 0.7933 - val_loss: 0.6395 - val_accuracy: 0.7993\n",
      "\n",
      "Epoch 00015: val_accuracy improved from 0.79432 to 0.79931, saving model to model.h5\n",
      "Epoch 16/30\n",
      "5288/5288 [==============================] - 3s 482us/step - loss: 0.5701 - accuracy: 0.8103 - val_loss: 0.6091 - val_accuracy: 0.8089\n",
      "\n",
      "Epoch 00016: val_accuracy improved from 0.79931 to 0.80890, saving model to model.h5\n",
      "Epoch 17/30\n",
      "5288/5288 [==============================] - 3s 521us/step - loss: 0.5605 - accuracy: 0.8043 - val_loss: 0.6240 - val_accuracy: 0.8093\n",
      "\n",
      "Epoch 00017: val_accuracy improved from 0.80890 to 0.80929, saving model to model.h5\n",
      "Epoch 18/30\n",
      "5288/5288 [==============================] - 3s 495us/step - loss: 0.5260 - accuracy: 0.8198 - val_loss: 0.6079 - val_accuracy: 0.8150\n",
      "\n",
      "Epoch 00018: val_accuracy improved from 0.80929 to 0.81504, saving model to model.h5\n",
      "Epoch 19/30\n",
      "5288/5288 [==============================] - 3s 544us/step - loss: 0.5225 - accuracy: 0.8207 - val_loss: 0.6144 - val_accuracy: 0.8127\n",
      "\n",
      "Epoch 00019: val_accuracy did not improve from 0.81504\n",
      "Epoch 20/30\n",
      "5288/5288 [==============================] - 3s 552us/step - loss: 0.5167 - accuracy: 0.8198 - val_loss: 0.6060 - val_accuracy: 0.8127\n",
      "\n",
      "Epoch 00020: val_accuracy did not improve from 0.81504\n",
      "Epoch 21/30\n",
      "5288/5288 [==============================] - 3s 519us/step - loss: 0.5031 - accuracy: 0.8300 - val_loss: 0.5954 - val_accuracy: 0.8223\n",
      "\n",
      "Epoch 00021: val_accuracy improved from 0.81504 to 0.82233, saving model to model.h5\n",
      "Epoch 22/30\n",
      "5288/5288 [==============================] - 3s 516us/step - loss: 0.5006 - accuracy: 0.8340 - val_loss: 0.6001 - val_accuracy: 0.8177\n",
      "\n",
      "Epoch 00022: val_accuracy did not improve from 0.82233\n",
      "Epoch 23/30\n",
      "5288/5288 [==============================] - 3s 483us/step - loss: 0.4758 - accuracy: 0.8336 - val_loss: 0.6012 - val_accuracy: 0.8227\n",
      "\n",
      "Epoch 00023: val_accuracy improved from 0.82233 to 0.82272, saving model to model.h5\n",
      "Epoch 24/30\n",
      "5288/5288 [==============================] - 3s 537us/step - loss: 0.4753 - accuracy: 0.8326 - val_loss: 0.5859 - val_accuracy: 0.8300\n",
      "\n",
      "Epoch 00024: val_accuracy improved from 0.82272 to 0.83001, saving model to model.h5\n",
      "Epoch 25/30\n",
      "5288/5288 [==============================] - 3s 494us/step - loss: 0.4547 - accuracy: 0.8493 - val_loss: 0.5906 - val_accuracy: 0.8235\n",
      "\n",
      "Epoch 00025: val_accuracy did not improve from 0.83001\n",
      "Epoch 26/30\n",
      "5288/5288 [==============================] - 3s 531us/step - loss: 0.4423 - accuracy: 0.8483 - val_loss: 0.5872 - val_accuracy: 0.8273\n",
      "\n",
      "Epoch 00026: val_accuracy did not improve from 0.83001\n",
      "Epoch 27/30\n",
      "5288/5288 [==============================] - 3s 509us/step - loss: 0.4493 - accuracy: 0.8508 - val_loss: 0.5930 - val_accuracy: 0.8300\n",
      "\n",
      "Epoch 00027: val_accuracy did not improve from 0.83001\n",
      "Epoch 28/30\n",
      "5288/5288 [==============================] - 3s 533us/step - loss: 0.4574 - accuracy: 0.8455 - val_loss: 0.5931 - val_accuracy: 0.8266\n",
      "\n",
      "Epoch 00028: val_accuracy did not improve from 0.83001\n",
      "Epoch 29/30\n",
      "5288/5288 [==============================] - 3s 491us/step - loss: 0.4289 - accuracy: 0.8514 - val_loss: 0.5834 - val_accuracy: 0.8292\n",
      "\n",
      "Epoch 00029: val_accuracy did not improve from 0.83001\n",
      "Epoch 30/30\n",
      "5288/5288 [==============================] - 3s 522us/step - loss: 0.4250 - accuracy: 0.8561 - val_loss: 0.6092 - val_accuracy: 0.8243\n",
      "\n",
      "Epoch 00030: val_accuracy did not improve from 0.83001\n"
     ]
    }
   ],
   "source": [
    "X_title_train, X_title_val, X_text_train, X_text_val, y_train, y_val = train_test_split(X_title, X_text, y,\n",
    "                                                  test_size = 0.33, random_state = 31, stratify=y)\n",
    "\n",
    "model_file = \"model.h5\"\n",
    "\n",
    "\n",
    "hist = model.fit([X_title_train, X_text_train], y_train, \n",
    "                 validation_data =([X_title_val, X_text_val], y_val),\n",
    "                 batch_size=16, nb_epoch = 30, \n",
    "#                  verbose = 1,\n",
    "                 callbacks=[\n",
    "                     ModelCheckpoint('model.h5', monitor='val_accuracy', mode='max',\n",
    "                                     verbose=1, save_best_only=True),\n",
    "                 EarlyStopping(monitor='val_accuracy', mode='max', patience=10,\n",
    "#                                verbose=1\n",
    "                              )])\n",
    "model.load_weights(model_file)"
   ]
  },
  {
   "cell_type": "markdown",
   "metadata": {},
   "source": [
    "# Plot the training curves"
   ]
  },
  {
   "cell_type": "code",
   "execution_count": 19,
   "metadata": {},
   "outputs": [
    {
     "data": {
      "image/png": "[encoded data removed]",
      "text/plain": [
       "<Figure size 432x288 with 1 Axes>"
      ]
     },
     "metadata": {},
     "output_type": "display_data"
    },
    {
     "data": {
      "image/png": "[encoded data removed]",
      "text/plain": [
       "<Figure size 432x288 with 1 Axes>"
      ]
     },
     "metadata": {},
     "output_type": "display_data"
    }
   ],
   "source": [
    "plt.plot(hist.history['accuracy'])\n",
    "plt.plot(hist.history['val_accuracy'])\n",
    "plt.ylabel('accuracy')\n",
    "plt.xlabel('epoch')\n",
    "plt.legend(['train', 'val'], loc = 'upper left')\n",
    "plt.show()\n",
    "\n",
    "plt.plot(hist.history['loss'])\n",
    "plt.plot(hist.history['val_loss'])\n",
    "plt.ylabel('loss')\n",
    "plt.xlabel('epoch')\n",
    "plt.legend(['train', 'val'], loc = 'upper left')\n",
    "plt.show()"
   ]
  },
  {
   "cell_type": "markdown",
   "metadata": {},
   "source": [
    "# Prepare submission"
   ]
  },
  {
   "cell_type": "code",
   "execution_count": 20,
   "metadata": {},
   "outputs": [
    {
     "name": "stdout",
     "output_type": "stream",
     "text": [
      "2606/2606 [==============================] - 0s 108us/step\n",
      "Accuracy: 83.00076723098755%\n"
     ]
    }
   ],
   "source": [
    "# model evaluation\n",
    "\n",
    "val_loss, val_acc = model.evaluate([X_title_val, X_text_val], y_val)\n",
    "\n",
    "print('Accuracy: ' + str(val_acc * 100) + '%')"
   ]
  },
  {
   "cell_type": "code",
   "execution_count": 21,
   "metadata": {},
   "outputs": [
    {
     "name": "stdout",
     "output_type": "stream",
     "text": [
      "(4251, 3)\n"
     ]
    },
    {
     "data": {
      "text/html": [
       "<div>\n",
       "<style scoped>\n",
       "    .dataframe tbody tr th:only-of-type {\n",
       "        vertical-align: middle;\n",
       "    }\n",
       "\n",
       "    .dataframe tbody tr th {\n",
       "        vertical-align: top;\n",
       "    }\n",
       "\n",
       "    .dataframe thead th {\n",
       "        text-align: right;\n",
       "    }\n",
       "</style>\n",
       "<table border=\"1\" class=\"dataframe\">\n",
       "  <thead>\n",
       "    <tr style=\"text-align: right;\">\n",
       "      <th></th>\n",
       "      <th>article_id</th>\n",
       "      <th>title</th>\n",
       "      <th>text</th>\n",
       "    </tr>\n",
       "  </thead>\n",
       "  <tbody>\n",
       "    <tr>\n",
       "      <th>0</th>\n",
       "      <td>4763</td>\n",
       "      <td>Enem 2016 aumenta 46% o uso do nome social por...</td>\n",
       "      <td>O número de travestis e transexuais que usará ...</td>\n",
       "    </tr>\n",
       "    <tr>\n",
       "      <th>1</th>\n",
       "      <td>52</td>\n",
       "      <td>'Viagem ao Japão é aula de cultura e tradição'...</td>\n",
       "      <td>O ator Jayme Matarazzo, 31, aproveita os inter...</td>\n",
       "    </tr>\n",
       "    <tr>\n",
       "      <th>2</th>\n",
       "      <td>7682</td>\n",
       "      <td>Fotógrafo registra a beleza natural de países ...</td>\n",
       "      <td>O fotógrafo Vitor Schietti, 29, passou quase u...</td>\n",
       "    </tr>\n",
       "    <tr>\n",
       "      <th>3</th>\n",
       "      <td>10292</td>\n",
       "      <td>Azar genético explica preferência do Aedes aeg...</td>\n",
       "      <td>Enquanto alguns sofrem, outros escapam incólum...</td>\n",
       "    </tr>\n",
       "    <tr>\n",
       "      <th>4</th>\n",
       "      <td>7435</td>\n",
       "      <td>Parto humanizado e capital humano ganham apoio...</td>\n",
       "      <td>A Womanity Foundation anunciou no início do mê...</td>\n",
       "    </tr>\n",
       "  </tbody>\n",
       "</table>\n",
       "</div>"
      ],
      "text/plain": [
       "   article_id                                              title  \\\n",
       "0        4763  Enem 2016 aumenta 46% o uso do nome social por...   \n",
       "1          52  'Viagem ao Japão é aula de cultura e tradição'...   \n",
       "2        7682  Fotógrafo registra a beleza natural de países ...   \n",
       "3       10292  Azar genético explica preferência do Aedes aeg...   \n",
       "4        7435  Parto humanizado e capital humano ganham apoio...   \n",
       "\n",
       "                                                text  \n",
       "0  O número de travestis e transexuais que usará ...  \n",
       "1  O ator Jayme Matarazzo, 31, aproveita os inter...  \n",
       "2  O fotógrafo Vitor Schietti, 29, passou quase u...  \n",
       "3  Enquanto alguns sofrem, outros escapam incólum...  \n",
       "4  A Womanity Foundation anunciou no início do mê...  "
      ]
     },
     "execution_count": 21,
     "metadata": {},
     "output_type": "execute_result"
    }
   ],
   "source": [
    "test_df = pd.read_csv('../input/fasam-nlp-competition-turma-5/test.csv')\n",
    "print(test_df.shape)\n",
    "test_df.head()"
   ]
  },
  {
   "cell_type": "code",
   "execution_count": 22,
   "metadata": {},
   "outputs": [],
   "source": [
    "def predict(df):\n",
    "    X_title, _ = preprocess(df['title'], embedding_vectors, titles_seq_size)\n",
    "    X_text, _ = preprocess(df['text'], embedding_vectors, texts_seq_size)\n",
    "    pred     = model.predict([X_title, X_text], batch_size=16)\n",
    "    print(np.max(pred, axis=-1))\n",
    "    return np.argmax(pred, axis=-1)"
   ]
  },
  {
   "cell_type": "code",
   "execution_count": 23,
   "metadata": {},
   "outputs": [
    {
     "data": {
      "text/plain": [
       "(4251, 3)"
      ]
     },
     "execution_count": 23,
     "metadata": {},
     "output_type": "execute_result"
    }
   ],
   "source": [
    "test_df.shape"
   ]
  },
  {
   "cell_type": "code",
   "execution_count": 24,
   "metadata": {},
   "outputs": [
    {
     "name": "stdout",
     "output_type": "stream",
     "text": [
      "182 words were not found\n",
      "182 words were not found\n",
      "[0.99938655 0.93387926 0.99931836 ... 0.6516475  0.76730657 0.9998566 ]\n"
     ]
    },
    {
     "data": {
      "text/plain": [
       "['educacao', 'turismo', 'turismo', 'ciencia', 'empreendedorsocial']"
      ]
     },
     "execution_count": 24,
     "metadata": {},
     "output_type": "execute_result"
    }
   ],
   "source": [
    "pred         = predict(test_df)\n",
    "pred_classes = [y_classes[c] for c in pred]\n",
    "pred_classes[:5]"
   ]
  },
  {
   "cell_type": "code",
   "execution_count": 25,
   "metadata": {},
   "outputs": [
    {
     "data": {
      "text/html": [
       "<div>\n",
       "<style scoped>\n",
       "    .dataframe tbody tr th:only-of-type {\n",
       "        vertical-align: middle;\n",
       "    }\n",
       "\n",
       "    .dataframe tbody tr th {\n",
       "        vertical-align: top;\n",
       "    }\n",
       "\n",
       "    .dataframe thead th {\n",
       "        text-align: right;\n",
       "    }\n",
       "</style>\n",
       "<table border=\"1\" class=\"dataframe\">\n",
       "  <thead>\n",
       "    <tr style=\"text-align: right;\">\n",
       "      <th></th>\n",
       "      <th>article_id</th>\n",
       "      <th>title</th>\n",
       "      <th>text</th>\n",
       "      <th>category</th>\n",
       "    </tr>\n",
       "  </thead>\n",
       "  <tbody>\n",
       "    <tr>\n",
       "      <th>0</th>\n",
       "      <td>4763</td>\n",
       "      <td>Enem 2016 aumenta 46% o uso do nome social por...</td>\n",
       "      <td>O número de travestis e transexuais que usará ...</td>\n",
       "      <td>educacao</td>\n",
       "    </tr>\n",
       "    <tr>\n",
       "      <th>1</th>\n",
       "      <td>52</td>\n",
       "      <td>'Viagem ao Japão é aula de cultura e tradição'...</td>\n",
       "      <td>O ator Jayme Matarazzo, 31, aproveita os inter...</td>\n",
       "      <td>turismo</td>\n",
       "    </tr>\n",
       "    <tr>\n",
       "      <th>2</th>\n",
       "      <td>7682</td>\n",
       "      <td>Fotógrafo registra a beleza natural de países ...</td>\n",
       "      <td>O fotógrafo Vitor Schietti, 29, passou quase u...</td>\n",
       "      <td>turismo</td>\n",
       "    </tr>\n",
       "    <tr>\n",
       "      <th>3</th>\n",
       "      <td>10292</td>\n",
       "      <td>Azar genético explica preferência do Aedes aeg...</td>\n",
       "      <td>Enquanto alguns sofrem, outros escapam incólum...</td>\n",
       "      <td>ciencia</td>\n",
       "    </tr>\n",
       "    <tr>\n",
       "      <th>4</th>\n",
       "      <td>7435</td>\n",
       "      <td>Parto humanizado e capital humano ganham apoio...</td>\n",
       "      <td>A Womanity Foundation anunciou no início do mê...</td>\n",
       "      <td>empreendedorsocial</td>\n",
       "    </tr>\n",
       "  </tbody>\n",
       "</table>\n",
       "</div>"
      ],
      "text/plain": [
       "   article_id                                              title  \\\n",
       "0        4763  Enem 2016 aumenta 46% o uso do nome social por...   \n",
       "1          52  'Viagem ao Japão é aula de cultura e tradição'...   \n",
       "2        7682  Fotógrafo registra a beleza natural de países ...   \n",
       "3       10292  Azar genético explica preferência do Aedes aeg...   \n",
       "4        7435  Parto humanizado e capital humano ganham apoio...   \n",
       "\n",
       "                                                text            category  \n",
       "0  O número de travestis e transexuais que usará ...            educacao  \n",
       "1  O ator Jayme Matarazzo, 31, aproveita os inter...             turismo  \n",
       "2  O fotógrafo Vitor Schietti, 29, passou quase u...             turismo  \n",
       "3  Enquanto alguns sofrem, outros escapam incólum...             ciencia  \n",
       "4  A Womanity Foundation anunciou no início do mê...  empreendedorsocial  "
      ]
     },
     "execution_count": 25,
     "metadata": {},
     "output_type": "execute_result"
    }
   ],
   "source": [
    "test_df['category'] = pred_classes\n",
    "test_df.head()"
   ]
  },
  {
   "cell_type": "code",
   "execution_count": 26,
   "metadata": {},
   "outputs": [],
   "source": [
    "test_df[[\"article_id\", \"category\"]].to_csv(\"submission.csv\", index=False)"
   ]
  },
  {
   "cell_type": "code",
   "execution_count": null,
   "metadata": {},
   "outputs": [],
   "source": []
  }
 ],
 "metadata": {
  "kernelspec": {
   "display_name": "Python 3",
   "language": "python",
   "name": "python3"
  },
  "language_info": {
   "codemirror_mode": {
    "name": "ipython",
    "version": 3
   },
   "file_extension": ".py",
   "mimetype": "text/x-python",
   "name": "python",
   "nbconvert_exporter": "python",
   "pygments_lexer": "ipython3",
   "version": "3.6.6"
  }
 },
 "nbformat": 4,
 "nbformat_minor": 1
}
