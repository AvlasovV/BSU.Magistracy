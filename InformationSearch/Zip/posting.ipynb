{
 "cells": [
  {
   "cell_type": "code",
   "execution_count": null,
   "metadata": {},
   "outputs": [],
   "source": [
    "# example coder 1\n",
    "class simple_text_coder:\n",
    "    def write(out_stream, x_list):\n",
    "        for x in x_list:\n",
    "            out_stream.write(str(x).encode('utf8'))\n",
    "            out_stream.write(b'\\t')\n",
    "\n",
    "    def read(inp_stream):\n",
    "        return list(map(int, inp_stream.read().split()))\n",
    "    \n",
    "\n",
    "import io\n",
    "output = io.BytesIO()\n",
    "simple_text_coder.write(output, [1, 2, 3, 300])\n",
    "print(output.getvalue())"
   ]
  },
  {
   "cell_type": "code",
   "execution_count": null,
   "metadata": {},
   "outputs": [],
   "source": [
    "# example coder 2\n",
    "import struct\n",
    "\n",
    "class simple_4byte_coder:\n",
    "    def write(out_stream, x_list):\n",
    "        for x in x_list:\n",
    "            out_stream.write(struct.pack('I', x))\n",
    "\n",
    "    def read(inp_stream):\n",
    "        res = []\n",
    "        while True:\n",
    "            data = inp_stream.read(struct.calcsize('I'))\n",
    "            if len(data) == 0:\n",
    "                break\n",
    "            res.append(struct.unpack('I', data)[0])\n",
    "        return res\n",
    "\n",
    "import io\n",
    "output = io.BytesIO()\n",
    "simple_4byte_coder.write(output, [1, 2, 3, 300])\n",
    "print(output.getvalue())"
   ]
  },
  {
   "cell_type": "markdown",
   "metadata": {},
   "source": [
    "1. Предлагается реализовать varint"
   ]
  },
  {
   "cell_type": "code",
   "execution_count": null,
   "metadata": {},
   "outputs": [],
   "source": [
    "# code here\n",
    "class varint_coder:\n",
    "    def write(out_stream, x_list):\n",
    "        pass\n",
    "\n",
    "    def read(inp_stream):\n",
    "        pass\n",
    "\n",
    "    \n",
    "import io        \n",
    "output = io.BytesIO()\n",
    "varint_coder.write(output, [1, 2, 3, 300])\n",
    "print(output.getvalue())    "
   ]
  },
  {
   "cell_type": "code",
   "execution_count": null,
   "metadata": {},
   "outputs": [],
   "source": [
    "import io\n",
    "import random\n",
    "\n",
    "# test engine\n",
    "def test_coder_single(coder, x, debug=False):\n",
    "    output = io.BytesIO()\n",
    "    coder.write(output, x)\n",
    "    output_bytes = output.getvalue()\n",
    "    input = io.BytesIO(output_bytes)\n",
    "    y = coder.read(input)\n",
    "    if x != y or debug:\n",
    "        print('%s -> %s -> %s' % (x, output_bytes, y))    \n",
    "    return len(output_bytes)\n",
    "\n",
    "\n",
    "def test_coder(coder, debug):\n",
    "    total_size = 0.0\n",
    "    \n",
    "    test_range = list(range(20000) if not debug else range(0, 300, 29))\n",
    "    \n",
    "    # test single ints\n",
    "    for x in test_range:\n",
    "        total_size += test_coder_single(coder, [x], debug) / (x + 1)\n",
    "    print('Done! Size: %f (smaller is better)' % total_size)\n",
    "    \n",
    "    # test list of ints\n",
    "    sample_max_size = 5\n",
    "    for i in range(len(test_range)):\n",
    "        sample_size = random.randint(1, sample_max_size)\n",
    "        x = random.sample(test_range, sample_size)\n",
    "        total_size += test_coder_single(coder, x, debug)\n",
    "    print('Done! Size: %f (smaller is better)' % total_size)\n",
    "    \n",
    "    \n",
    "test_coder(simple_text_coder, False)\n",
    "test_coder(simple_4byte_coder, False)\n",
    "#test_coder(varint_coder, False)"
   ]
  },
  {
   "cell_type": "code",
   "execution_count": null,
   "metadata": {},
   "outputs": [],
   "source": [
    "import tarfile\n",
    "from tqdm import tqdm\n",
    "\n",
    "#with tarfile.open(\"texts.norm.tar.bz2\", \"r:bz2\") as tar:\n",
    "with tarfile.open(\"texts.small.norm.tar.bz2\", \"r:bz2\") as tar:\n",
    "    for docid, tarinfo in tqdm(enumerate(tar)):\n",
    "        with tar.extractfile(tarinfo) as inp:\n",
    "            for term in inp.read().decode('utf8').split():\n",
    "                # build inverted index in memory\n",
    "                pass"
   ]
  },
  {
   "cell_type": "markdown",
   "metadata": {},
   "source": [
    "2. Предлагается сравнить сумарный размер хранения постинглистов разным кодированием:\n",
    " * Без сжатия: 4 байта на число\n",
    " * varint\n",
    " * varint + delta-кодирование\n",
    " * bz2\n",
    " * bz2 + delta-кодирование"
   ]
  },
  {
   "cell_type": "code",
   "execution_count": null,
   "metadata": {},
   "outputs": [],
   "source": []
  },
  {
   "cell_type": "markdown",
   "metadata": {},
   "source": [
    "3. Предлагается получить профит за переупорядычивание документов"
   ]
  },
  {
   "cell_type": "code",
   "execution_count": null,
   "metadata": {},
   "outputs": [],
   "source": []
  }
 ],
 "metadata": {
  "kernelspec": {
   "display_name": "Python 3",
   "language": "python",
   "name": "python3"
  },
  "language_info": {
   "codemirror_mode": {
    "name": "ipython",
    "version": 3
   },
   "file_extension": ".py",
   "mimetype": "text/x-python",
   "name": "python",
   "nbconvert_exporter": "python",
   "pygments_lexer": "ipython3",
   "version": "3.7.2"
  }
 },
 "nbformat": 4,
 "nbformat_minor": 2
}
