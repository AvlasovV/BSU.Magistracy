{
 "cells": [
  {
   "cell_type": "code",
   "execution_count": 1,
   "metadata": {},
   "outputs": [
    {
     "name": "stdout",
     "output_type": "stream",
     "text": [
      "0b10000000\n"
     ]
    }
   ],
   "source": [
    "# binary repr of an int\n",
    "print(bin(128))"
   ]
  },
  {
   "cell_type": "code",
   "execution_count": 3,
   "metadata": {},
   "outputs": [
    {
     "name": "stdout",
     "output_type": "stream",
     "text": [
      "False\n",
      "True\n"
     ]
    }
   ],
   "source": [
    "def is_significant_bit_set(x):\n",
    "    return (x >> 7) == 1\n",
    "\n",
    "print (is_significant_bit_set(1))\n",
    "print (is_significant_bit_set(128))"
   ]
  },
  {
   "cell_type": "code",
   "execution_count": 5,
   "metadata": {},
   "outputs": [
    {
     "name": "stdout",
     "output_type": "stream",
     "text": [
      "1\n",
      "91\n",
      "0\n"
     ]
    }
   ],
   "source": [
    "def get_7_least_bits(x):\n",
    "    return x & 127\n",
    "\n",
    "print (get_7_least_bits(1))\n",
    "print (get_7_least_bits(91))\n",
    "print (get_7_least_bits(128))"
   ]
  },
  {
   "cell_type": "code",
   "execution_count": 7,
   "metadata": {},
   "outputs": [
    {
     "name": "stdout",
     "output_type": "stream",
     "text": [
      "129\n",
      "138\n",
      "1\n",
      "2\n"
     ]
    }
   ],
   "source": [
    "def set_significant_bit(x):\n",
    "    return x | (1 << 7)\n",
    "\n",
    "def reset_significant_bit(x):\n",
    "    return x & (~(1 << 7))\n",
    "\n",
    "print(set_significant_bit(1))\n",
    "print(set_significant_bit(10))\n",
    "\n",
    "print(reset_significant_bit(129))\n",
    "print(reset_significant_bit(130))\n"
   ]
  },
  {
   "cell_type": "code",
   "execution_count": null,
   "metadata": {},
   "outputs": [],
   "source": []
  }
 ],
 "metadata": {
  "kernelspec": {
   "display_name": "Python 3",
   "language": "python",
   "name": "python3"
  },
  "language_info": {
   "codemirror_mode": {
    "name": "ipython",
    "version": 3
   },
   "file_extension": ".py",
   "mimetype": "text/x-python",
   "name": "python",
   "nbconvert_exporter": "python",
   "pygments_lexer": "ipython3",
   "version": "3.7.2"
  }
 },
 "nbformat": 4,
 "nbformat_minor": 2
}
